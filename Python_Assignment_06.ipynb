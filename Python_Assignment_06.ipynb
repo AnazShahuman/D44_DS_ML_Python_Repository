{
  "nbformat": 4,
  "nbformat_minor": 0,
  "metadata": {
    "colab": {
      "provenance": []
    },
    "kernelspec": {
      "name": "python3",
      "display_name": "Python 3"
    },
    "language_info": {
      "name": "python"
    }
  },
  "cells": [
    {
      "cell_type": "code",
      "execution_count": null,
      "metadata": {
        "id": "tDRKpkCOQYP7"
      },
      "outputs": [],
      "source": []
    },
    {
      "cell_type": "markdown",
      "source": [
        "Build a program to manage a university's course catalog. You want to define a base class Course that has the following properties:\n",
        "course_code: a string representing the course code (e.g., \"CS101\")\n",
        "course_name: a string representing the course name (e.g., \"Introduction to Computer Science\")\n",
        "credit_hours: an integer representing the credit hours for the course (e.g., 3)\n",
        "You also want to define two subclasses CoreCourse and ElectiveCourse, which inherit from the Course class.\n",
        "CoreCourse should have an additional property required_for_major which is a boolean representing whether the course is required for a particular major.\n",
        "ElectiveCourse should have an additional property elective_type which is a string representing the type of elective (e.g., \"general\", \"technical\", \"liberal arts\").\n"
      ],
      "metadata": {
        "id": "85zGABA_Q7AZ"
      }
    },
    {
      "cell_type": "code",
      "source": [
        "class Course:\n",
        "    def __init__(self, course_code: str, course_name: str, credit_hours: int):\n",
        "        self.course_code = course_code\n",
        "        self.course_name = course_name\n",
        "        self.credit_hours = credit_hours\n",
        "\n",
        "    def __str__(self):\n",
        "        return f\"Course Code: {self.course_code}, Course Name: {self.course_name}, Credit Hours: {self.credit_hours}\"\n",
        "\n",
        "\n",
        "class CoreCourse(Course):\n",
        "    def __init__(self, course_code: str, course_name: str, credit_hours: int, required_for_major: bool):\n",
        "        super().__init__(course_code, course_name, credit_hours)\n",
        "        self.required_for_major = required_for_major\n",
        "\n",
        "    def __str__(self):\n",
        "        return super().__str__() + f\", Required for Major: {self.required_for_major}\"\n",
        "\n",
        "\n",
        "class ElectiveCourse(Course):\n",
        "    def __init__(self, course_code: str, course_name: str, credit_hours: int, elective_type: str):\n",
        "        super().__init__(course_code, course_name, credit_hours)\n",
        "        self.elective_type = elective_type\n",
        "\n",
        "    def __str__(self):\n",
        "        return super().__str__() + f\", Elective Type: {self.elective_type}\"\n",
        "\n",
        "\n",
        "# Example usage\n",
        "if __name__ == \"__main__\":\n",
        "    # Create a CoreCourse instance\n",
        "    core_course = CoreCourse(\"CS101\", \"Introduction to Computer Science\", 3, True)\n",
        "    print(core_course)\n",
        "\n",
        "    # Create an ElectiveCourse instance\n",
        "    elective_course = ElectiveCourse(\"ARTS101\", \"Introduction to Art\", 2, \"liberal arts\")\n",
        "    print(elective_course)"
      ],
      "metadata": {
        "colab": {
          "base_uri": "https://localhost:8080/"
        },
        "id": "gr9Ly1MQQ4ON",
        "outputId": "8b6238a8-0c0f-4e45-9458-e4b5cd6756c1"
      },
      "execution_count": 1,
      "outputs": [
        {
          "output_type": "stream",
          "name": "stdout",
          "text": [
            "Course Code: CS101, Course Name: Introduction to Computer Science, Credit Hours: 3, Required for Major: True\n",
            "Course Code: ARTS101, Course Name: Introduction to Art, Credit Hours: 2, Elective Type: liberal arts\n"
          ]
        }
      ]
    },
    {
      "cell_type": "markdown",
      "source": [
        "Create a Python module named employee that contains a class Employee with attributes name, salary and methods get_name() and get_salary(). Write a program to use this module to create an object of the Employee class and display its name and salary."
      ],
      "metadata": {
        "id": "Co-ULxspRFv4"
      }
    },
    {
      "cell_type": "code",
      "source": [
        "# Define the Employee class\n",
        "class Employee:\n",
        "    def __init__(self, name: str, salary: float):\n",
        "        self.name = name\n",
        "        self.salary = salary\n",
        "\n",
        "    def get_name(self) -> str:\n",
        "        return self.name\n",
        "\n",
        "    def get_salary(self) -> float:\n",
        "        return self.salary\n",
        "\n",
        "# Create an Employee object\n",
        "employee = Employee(\"John Doe\", 75000)\n",
        "\n",
        "# Display the employee's name and salary\n",
        "print(f\"Employee Name: {employee.get_name()}\")\n",
        "print(f\"Employee Salary: ${employee.get_salary():,.2f}\")"
      ],
      "metadata": {
        "colab": {
          "base_uri": "https://localhost:8080/"
        },
        "id": "8I-xBSEaRJgm",
        "outputId": "4c6e7fea-ce69-4ed8-96bf-fc217a21f5b1"
      },
      "execution_count": 2,
      "outputs": [
        {
          "output_type": "stream",
          "name": "stdout",
          "text": [
            "Employee Name: John Doe\n",
            "Employee Salary: $75,000.00\n"
          ]
        }
      ]
    }
  ]
}