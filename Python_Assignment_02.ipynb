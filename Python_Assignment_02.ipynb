{
  "nbformat": 4,
  "nbformat_minor": 0,
  "metadata": {
    "colab": {
      "provenance": []
    },
    "kernelspec": {
      "name": "python3",
      "display_name": "Python 3"
    },
    "language_info": {
      "name": "python"
    }
  },
  "cells": [
    {
      "cell_type": "code",
      "execution_count": null,
      "metadata": {
        "id": "U-BDRMWqXikC"
      },
      "outputs": [],
      "source": []
    },
    {
      "cell_type": "markdown",
      "source": [
        "### Data structures in Python"
      ],
      "metadata": {
        "id": "UKPrlSGNYWDy"
      }
    },
    {
      "cell_type": "markdown",
      "source": [
        "**Topic :List**"
      ],
      "metadata": {
        "id": "FuUI2N2_Yf-T"
      }
    },
    {
      "cell_type": "code",
      "source": [
        "import random\n",
        "\n",
        "# Q1. Create a list of 5 random numbers and print the list\n",
        "random_numbers = [random.randint(1, 100) for _ in range(5)]\n",
        "print(\"Original list:\", random_numbers)\n",
        "\n",
        "# Q2. Insert 3 new values to the list and print the updated list\n",
        "new_values = [random.randint(1, 100) for _ in range(3)]\n",
        "random_numbers.extend(new_values)\n",
        "print(\"Updated list:\", random_numbers)\n",
        "\n",
        "# Q3. Use a for loop to print each element in the list\n",
        "for number in random_numbers:\n",
        "    print(number)"
      ],
      "metadata": {
        "colab": {
          "base_uri": "https://localhost:8080/"
        },
        "id": "_G38ConhYlzI",
        "outputId": "f03692d1-023d-43ba-d4db-4726cc7660a3"
      },
      "execution_count": 2,
      "outputs": [
        {
          "output_type": "stream",
          "name": "stdout",
          "text": [
            "Original list: [48, 1, 62, 22, 72]\n",
            "Updated list: [48, 1, 62, 22, 72, 14, 87, 90]\n",
            "48\n",
            "1\n",
            "62\n",
            "22\n",
            "72\n",
            "14\n",
            "87\n",
            "90\n"
          ]
        }
      ]
    },
    {
      "cell_type": "markdown",
      "source": [
        "**Topic: Dictionary**"
      ],
      "metadata": {
        "id": "awd0ex-wZNWt"
      }
    },
    {
      "cell_type": "code",
      "source": [
        "# Q1. Create a dictionary\n",
        "# Create a dictionary with specified keys and values\n",
        "person_info = {\n",
        "    'name': 'John',\n",
        "    'age': 25,\n",
        "    'address': 'New York'\n",
        "}\n",
        "\n",
        "# Print the dictionary\n",
        "print(\"Original dictionary:\", person_info)"
      ],
      "metadata": {
        "colab": {
          "base_uri": "https://localhost:8080/"
        },
        "id": "7eFZeLc4ZWlQ",
        "outputId": "75b64ec5-cc97-4b46-f134-ab846abbed1f"
      },
      "execution_count": 3,
      "outputs": [
        {
          "output_type": "stream",
          "name": "stdout",
          "text": [
            "Original dictionary: {'name': 'John', 'age': 25, 'address': 'New York'}\n"
          ]
        }
      ]
    },
    {
      "cell_type": "code",
      "source": [
        "# Q2. Add a new key-value pair to the dictionary\n",
        "# Add a new key-value pair to the dictionary\n",
        "person_info['phone'] = '1234567890'\n",
        "\n",
        "# Print the updated dictionary\n",
        "print(\"Updated dictionary:\", person_info)"
      ],
      "metadata": {
        "colab": {
          "base_uri": "https://localhost:8080/"
        },
        "id": "fsm6XHFxZ0bZ",
        "outputId": "36308975-0ded-44a0-8583-3c6daa1333c1"
      },
      "execution_count": 4,
      "outputs": [
        {
          "output_type": "stream",
          "name": "stdout",
          "text": [
            "Updated dictionary: {'name': 'John', 'age': 25, 'address': 'New York', 'phone': '1234567890'}\n"
          ]
        }
      ]
    },
    {
      "cell_type": "markdown",
      "source": [
        "**Topic: Set**"
      ],
      "metadata": {
        "id": "UceGIJXKaGOl"
      }
    },
    {
      "cell_type": "code",
      "source": [
        "# Q1. Create a set with values 1, 2, 3, 4, and\n",
        "# Create a set with specified values\n",
        "my_set = {1, 2, 3, 4, 5}\n",
        "\n",
        "# Print the set\n",
        "print(\"Original set:\", my_set)"
      ],
      "metadata": {
        "colab": {
          "base_uri": "https://localhost:8080/"
        },
        "id": "ZK68rtCBaOvt",
        "outputId": "69782190-8cc7-4e9b-afa2-04a00ef10324"
      },
      "execution_count": 7,
      "outputs": [
        {
          "output_type": "stream",
          "name": "stdout",
          "text": [
            "Original set: {1, 2, 3, 4, 5}\n"
          ]
        }
      ]
    },
    {
      "cell_type": "code",
      "source": [
        "# Q2. Add the value 6 to the set\n",
        "# Add the value 6 to the set\n",
        "my_set.add(6)\n",
        "\n",
        "# Print the updated set\n",
        "print(\"Set after adding 6:\", my_set)"
      ],
      "metadata": {
        "colab": {
          "base_uri": "https://localhost:8080/"
        },
        "id": "l4gTo1y8acp9",
        "outputId": "724a7ab9-7dd9-4ebe-b295-01e889f1beea"
      },
      "execution_count": 9,
      "outputs": [
        {
          "output_type": "stream",
          "name": "stdout",
          "text": [
            "Set after adding 6: {1, 2, 3, 4, 5, 6}\n"
          ]
        }
      ]
    },
    {
      "cell_type": "code",
      "source": [
        "# Q3. Remove the value 3 from the set\n",
        "# Remove the value 3 from the set\n",
        "my_set.remove(3)\n",
        "\n",
        "# Print the updated set\n",
        "print(\"Set after removing 3:\", my_set)"
      ],
      "metadata": {
        "colab": {
          "base_uri": "https://localhost:8080/"
        },
        "id": "M9CDU2HWalch",
        "outputId": "6782b1d4-f05d-43d5-ae49-95a548bab92d"
      },
      "execution_count": 10,
      "outputs": [
        {
          "output_type": "stream",
          "name": "stdout",
          "text": [
            "Set after removing 3: {1, 2, 4, 5, 6}\n"
          ]
        }
      ]
    },
    {
      "cell_type": "markdown",
      "source": [
        "**Topic: Set**"
      ],
      "metadata": {
        "id": "KoZZkg8Fas5D"
      }
    },
    {
      "cell_type": "code",
      "source": [
        "# Q1. Create a tuple with values 1, 2, 3, and 4\n",
        "# Create a tuple with specified values\n",
        "my_tuple = (1, 2, 3, 4)\n",
        "\n",
        "# Print the tuple\n",
        "print(\"Tuple:\", my_tuple)"
      ],
      "metadata": {
        "colab": {
          "base_uri": "https://localhost:8080/"
        },
        "id": "vvZSTuRqa0W7",
        "outputId": "e3fb5cb2-8329-44db-d8e4-b84495b4678e"
      },
      "execution_count": 11,
      "outputs": [
        {
          "output_type": "stream",
          "name": "stdout",
          "text": [
            "Tuple: (1, 2, 3, 4)\n"
          ]
        }
      ]
    },
    {
      "cell_type": "code",
      "source": [
        "# Q2. Print the length of the tuple\n",
        "# Print the length of the tuple\n",
        "print(\"Length of the tuple:\", len(my_tuple))"
      ],
      "metadata": {
        "colab": {
          "base_uri": "https://localhost:8080/"
        },
        "id": "Y67XYSlDa6Fq",
        "outputId": "c5a18f89-9ecd-4a1f-cda3-1660d030d154"
      },
      "execution_count": 12,
      "outputs": [
        {
          "output_type": "stream",
          "name": "stdout",
          "text": [
            "Length of the tuple: 4\n"
          ]
        }
      ]
    }
  ]
}