{
  "nbformat": 4,
  "nbformat_minor": 0,
  "metadata": {
    "colab": {
      "provenance": []
    },
    "kernelspec": {
      "name": "python3",
      "display_name": "Python 3"
    },
    "language_info": {
      "name": "python"
    }
  },
  "cells": [
    {
      "cell_type": "code",
      "execution_count": null,
      "metadata": {
        "id": "8So2z0m0K2M_"
      },
      "outputs": [],
      "source": []
    },
    {
      "cell_type": "markdown",
      "source": [
        "# Exercise 1: Write a Python program to read a file and display its contents\n"
      ],
      "metadata": {
        "id": "tPppzOutL1qq"
      }
    },
    {
      "cell_type": "code",
      "source": [
        "# Function to read and display file contents\n",
        "def read_and_display_file():\n",
        "    # Prompt the user for the filename\n",
        "    filename = input(\"Enter the filename to read: \")\n",
        "\n",
        "    try:\n",
        "        # Open the file in read mode\n",
        "        with open(filename, 'r') as file:\n",
        "            # Read the contents of the file\n",
        "            contents = file.read()\n",
        "            # Display the contents\n",
        "            print(\"\\nFile Contents:\")\n",
        "            print(contents)\n",
        "    except FileNotFoundError:\n",
        "        print(f\"Error: The file '{filename}' does not exist.\")\n",
        "    except Exception as e:\n",
        "        print(f\"An error occurred: {e}\")\n",
        "\n",
        "# Run the function\n",
        "if __name__ == \"__main__\":\n",
        "    read_and_display_file()"
      ],
      "metadata": {
        "colab": {
          "base_uri": "https://localhost:8080/"
        },
        "id": "wODtIOXLL4Tf",
        "outputId": "7593d02e-4e83-4b56-c98b-fd7f82e1d882"
      },
      "execution_count": 8,
      "outputs": [
        {
          "output_type": "stream",
          "name": "stdout",
          "text": [
            "Enter the filename to read: example.txt\n",
            "Error: The file 'example.txt' does not exist.\n"
          ]
        }
      ]
    },
    {
      "cell_type": "markdown",
      "source": [
        "# Exercise 2: Write a Python program to copy the contents of one file to another file"
      ],
      "metadata": {
        "id": "mJ8CH2OhL6yA"
      }
    },
    {
      "cell_type": "code",
      "source": [
        "# Function to copy contents of one file to another\n",
        "def copy_file():\n",
        "    # Prompt the user for the source and destination filenames\n",
        "    source_filename = input(\"Enter the source filename: \")\n",
        "    destination_filename = input(\"Enter the destination filename: \")\n",
        "\n",
        "    try:\n",
        "        # Open the source file in read mode\n",
        "        with open(source_filename, 'r') as source_file:\n",
        "            # Read the contents of the source file\n",
        "            contents = source_file.read()\n",
        "\n",
        "        # Open the destination file in write mode\n",
        "        with open(destination_filename, 'w') as destination_file:\n",
        "            # Write the contents to the destination file\n",
        "            destination_file.write(contents)\n",
        "\n",
        "        print(f\"\\nContents of '{source_filename}' have been copied to '{destination_filename}'.\")\n",
        "    except FileNotFoundError:\n",
        "        print(f\"Error: The file '{source_filename}' does not exist.\")\n",
        "    except Exception as e:\n",
        "        print(f\"An error occurred: {e}\")\n",
        "\n",
        "# Run the function\n",
        "if __name__ == \"__main__\":\n",
        "    copy_file()"
      ],
      "metadata": {
        "colab": {
          "base_uri": "https://localhost:8080/"
        },
        "id": "fhCT7dRhL9EU",
        "outputId": "482d0f3b-c67c-4349-df4a-84881adde0f5"
      },
      "execution_count": 9,
      "outputs": [
        {
          "output_type": "stream",
          "name": "stdout",
          "text": [
            "Enter the source filename: example.txt\n",
            "Enter the destination filename: dst.txt\n",
            "Error: The file 'example.txt' does not exist.\n"
          ]
        }
      ]
    },
    {
      "cell_type": "markdown",
      "source": [
        "# Exercise 3: Write a Python program to read the content of a file and count the total number of words in that file."
      ],
      "metadata": {
        "id": "zAYd_Fa2L_EJ"
      }
    },
    {
      "cell_type": "code",
      "source": [
        "# Function to count the total number of words in a file\n",
        "def count_words_in_file():\n",
        "    # Prompt the user for the filename\n",
        "    filename = input(\"Enter the filename to count words: \")\n",
        "\n",
        "    try:\n",
        "        # Open the file in read mode\n",
        "        with open(filename, 'r') as file:\n",
        "            # Read the contents of the file\n",
        "            contents = file.read()\n",
        "            # Split the contents into words using whitespace as the delimiter\n",
        "            words = contents.split()\n",
        "            # Count the total number of words\n",
        "            word_count = len(words)\n",
        "            # Display the result\n",
        "            print(f\"\\nTotal number of words in '{filename}': {word_count}\")\n",
        "    except FileNotFoundError:\n",
        "        print(f\"Error: The file '{filename}' does not exist.\")\n",
        "    except Exception as e:\n",
        "        print(f\"An error occurred: {e}\")\n",
        "\n",
        "# Run the function\n",
        "if __name__ == \"__main__\":\n",
        "    count_words_in_file()"
      ],
      "metadata": {
        "id": "wuxJb-fXMBbZ"
      },
      "execution_count": 3,
      "outputs": []
    },
    {
      "cell_type": "markdown",
      "source": [
        "# Exercise 4: Write a Python program that prompts the user to input a string and converts it to an integer. Use try-except blocks to handle any exceptions that might occur"
      ],
      "metadata": {
        "id": "n9ME7dNQMDjn"
      }
    },
    {
      "cell_type": "code",
      "source": [
        "# Function to convert a string to an integer\n",
        "def convert_string_to_integer():\n",
        "    # Prompt the user to input a string\n",
        "    user_input = input(\"Enter a string to convert to an integer: \")\n",
        "\n",
        "    try:\n",
        "        # Attempt to convert the input to an integer\n",
        "        number = int(user_input)\n",
        "        # Display the converted integer\n",
        "        print(f\"Converted integer: {number}\")\n",
        "    except ValueError:\n",
        "        # Handle the case where the input cannot be converted to an integer\n",
        "        print(\"Error: The input cannot be converted to an integer.\")\n",
        "\n",
        "# Run the function\n",
        "if __name__ == \"__main__\":\n",
        "    convert_string_to_integer()"
      ],
      "metadata": {
        "id": "zFqgiQ92MFw5"
      },
      "execution_count": 4,
      "outputs": []
    },
    {
      "cell_type": "markdown",
      "source": [
        "# Exercise 5: Write a Python program that prompts the user to input a list of integers and raises an exception if any of the integers in the list are negative."
      ],
      "metadata": {
        "id": "4Yu8XcxJMLGT"
      }
    },
    {
      "cell_type": "code",
      "source": [
        "# Custom exception for negative numbers\n",
        "class NegativeNumberError(Exception):\n",
        "    def __init__(self, message=\"Negative numbers are not allowed.\"):\n",
        "        self.message = message\n",
        "        super().__init__(self.message)\n",
        "\n",
        "# Function to check for negative integers in a list\n",
        "def check_for_negative_numbers():\n",
        "    try:\n",
        "        # Prompt the user to input a list of integers\n",
        "        user_input = input(\"Enter a list of integers separated by spaces: \")\n",
        "\n",
        "        # Convert the input string to a list of integers\n",
        "        numbers = list(map(int, user_input.split()))\n",
        "\n",
        "        # Check for negative numbers\n",
        "        for num in numbers:\n",
        "            if num < 0:\n",
        "                raise NegativeNumberError()\n",
        "\n",
        "        # If no negative numbers are found, print the list\n",
        "        print(\"All numbers are non-negative.\")\n",
        "        print(\"List of numbers:\", numbers)\n",
        "    except ValueError:\n",
        "        print(\"Error: Invalid input. Please enter integers only.\")\n",
        "    except NegativeNumberError as e:\n",
        "        print(f\"Error: {e}\")\n",
        "\n",
        "# Run the function\n",
        "if __name__ == \"__main__\":\n",
        "    check_for_negative_numbers()"
      ],
      "metadata": {
        "id": "ufUEuo4LMNGU"
      },
      "execution_count": 5,
      "outputs": []
    },
    {
      "cell_type": "markdown",
      "source": [
        "# Exercise 6: Write a Python program that prompts the user to input a list of integers and computes the average of those integers. Use try-except blocks to handle any exceptions that might occur.use the finally clause to print a message indicating that the program has finished running."
      ],
      "metadata": {
        "id": "NZ_cLxrTMPFx"
      }
    },
    {
      "cell_type": "code",
      "source": [
        "# Function to compute the average of a list of integers\n",
        "def compute_average():\n",
        "    try:\n",
        "        # Prompt the user to input a list of integers\n",
        "        user_input = input(\"Enter a list of integers separated by spaces: \")\n",
        "\n",
        "        # Convert the input string to a list of integers\n",
        "        numbers = list(map(int, user_input.split()))\n",
        "\n",
        "        # Compute the average\n",
        "        average = sum(numbers) / len(numbers)\n",
        "        print(f\"The average is: {average}\")\n",
        "    except ValueError:\n",
        "        print(\"Error: Invalid input. Please enter integers only.\")\n",
        "    except ZeroDivisionError:\n",
        "        print(\"Error: The list cannot be empty.\")\n",
        "    finally:\n",
        "        print(\"Program execution finished.\")\n",
        "\n",
        "# Run the function\n",
        "if __name__ == \"__main__\":\n",
        "    compute_average()"
      ],
      "metadata": {
        "id": "Pd2welaGMRd8"
      },
      "execution_count": 6,
      "outputs": []
    },
    {
      "cell_type": "markdown",
      "source": [
        "# Exercise 7: Write a Python program that prompts the user to input a filename and writes a string to that file. Use try-except blocks to handle any exceptions that might occur and print a welcome message if there is no exception occurred."
      ],
      "metadata": {
        "id": "BRaeuisqMUff"
      }
    },
    {
      "cell_type": "code",
      "source": [
        "# Function to write a string to a file\n",
        "def write_to_file():\n",
        "    try:\n",
        "        # Prompt the user to input a filename\n",
        "        filename = input(\"Enter the filename: \")\n",
        "\n",
        "        # Prompt the user to input the content to write to the file\n",
        "        content = input(\"Enter the content to write to the file: \")\n",
        "\n",
        "        # Open the file in write mode and write the content\n",
        "        with open(filename, 'w') as file:\n",
        "            file.write(content)\n",
        "\n",
        "        # If no exception occurs, print a welcome message\n",
        "        print(\"Welcome! The content has been written to the file successfully.\")\n",
        "    except PermissionError:\n",
        "        print(\"Error: You do not have permission to write to this file.\")\n",
        "    except Exception as e:\n",
        "        print(f\"An error occurred: {e}\")\n",
        "\n",
        "# Run the function\n",
        "if __name__ == \"__main__\":\n",
        "    write_to_file()"
      ],
      "metadata": {
        "id": "Bb2aOxNHMoH3"
      },
      "execution_count": 7,
      "outputs": []
    }
  ]
}