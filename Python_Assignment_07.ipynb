{
  "nbformat": 4,
  "nbformat_minor": 0,
  "metadata": {
    "colab": {
      "provenance": []
    },
    "kernelspec": {
      "name": "python3",
      "display_name": "Python 3"
    },
    "language_info": {
      "name": "python"
    }
  },
  "cells": [
    {
      "cell_type": "markdown",
      "source": [
        "#Exercise 1:Create a numpy array containing the numbers from 1 to 10, and then reshape it to a 2x5 matrix.\n"
      ],
      "metadata": {
        "id": "v-MgO3U9SS46"
      }
    },
    {
      "cell_type": "code",
      "execution_count": 1,
      "metadata": {
        "colab": {
          "base_uri": "https://localhost:8080/"
        },
        "id": "nEmgnjOdSH3B",
        "outputId": "2ea8f185-0459-475e-e9b8-c654ca6f6929"
      },
      "outputs": [
        {
          "output_type": "stream",
          "name": "stdout",
          "text": [
            "Original Array:\n",
            "[ 1  2  3  4  5  6  7  8  9 10]\n",
            "\n",
            "Reshaped 2x5 Matrix:\n",
            "[[ 1  2  3  4  5]\n",
            " [ 6  7  8  9 10]]\n"
          ]
        }
      ],
      "source": [
        "import numpy as np\n",
        "\n",
        "# Create a NumPy array containing numbers from 1 to 10\n",
        "array = np.arange(1, 11)\n",
        "\n",
        "# Reshape the array to a 2x5 matrix\n",
        "reshaped_array = array.reshape(2, 5)\n",
        "\n",
        "# Display the original array and the reshaped array\n",
        "print(\"Original Array:\")\n",
        "print(array)\n",
        "print(\"\\nReshaped 2x5 Matrix:\")\n",
        "print(reshaped_array)"
      ]
    },
    {
      "cell_type": "markdown",
      "source": [
        "#Exercise 2:Create a numpy array containing the numbers from 1 to 20, and then extract the elements between the 5th and 15th index.\n"
      ],
      "metadata": {
        "id": "RchM5GJqS92r"
      }
    },
    {
      "cell_type": "code",
      "source": [
        "import numpy as np\n",
        "\n",
        "# Create a NumPy array containing numbers from 1 to 20\n",
        "array = np.arange(1, 21)\n",
        "\n",
        "# Extract elements between the 5th and 15th index\n",
        "# Note: Python uses 0-based indexing, so the 5th index is 6th element, and the 15th index is 16th element\n",
        "extracted_elements = array[5:15]\n",
        "\n",
        "# Display the original array and the extracted elements\n",
        "print(\"Original Array:\")\n",
        "print(array)\n",
        "print(\"\\nExtracted Elements (5th to 15th index):\")\n",
        "print(extracted_elements)"
      ],
      "metadata": {
        "id": "AGS7AkrhTDKz"
      },
      "execution_count": null,
      "outputs": []
    },
    {
      "cell_type": "markdown",
      "source": [
        "#Exercise 3: Create a Pandas series with the following data: {'apples': 3, 'bananas': 2, 'oranges': 1}. Then, add a new item to the series with the key 'pears' and the value 4.\n"
      ],
      "metadata": {
        "id": "1bCUfywXTGb8"
      }
    },
    {
      "cell_type": "code",
      "source": [
        "import pandas as pd\n",
        "\n",
        "# Create a Pandas series with the given data\n",
        "data = {'apples': 3, 'bananas': 2, 'oranges': 1}\n",
        "series = pd.Series(data)\n",
        "\n",
        "# Add a new item to the series\n",
        "series['pears'] = 4\n",
        "\n",
        "# Display the series\n",
        "print(series)"
      ],
      "metadata": {
        "colab": {
          "base_uri": "https://localhost:8080/"
        },
        "id": "gasO56maTNUa",
        "outputId": "ca172982-b7bf-468b-fbc5-25839d94bee1"
      },
      "execution_count": 2,
      "outputs": [
        {
          "output_type": "stream",
          "name": "stdout",
          "text": [
            "apples     3\n",
            "bananas    2\n",
            "oranges    1\n",
            "pears      4\n",
            "dtype: int64\n"
          ]
        }
      ]
    },
    {
      "cell_type": "markdown",
      "source": [
        "#Exercise 4: Create a dataframe with the following columns: name, age, and gender. The dataframe should have 10 rows of data.\n"
      ],
      "metadata": {
        "id": "wSQ1REh3T3io"
      }
    },
    {
      "cell_type": "code",
      "source": [
        "import pandas as pd\n",
        "\n",
        "# Create a dictionary with the data\n",
        "data = {\n",
        "    'name': ['Alice', 'Bob', 'Charlie', 'David', 'Eva', 'Frank', 'Grace', 'Hannah', 'Ivy', 'Jack'],\n",
        "    'age': [25, 30, 35, 40, 22, 28, 33, 26, 29, 31],\n",
        "    'gender': ['F', 'M', 'M', 'M', 'F', 'M', 'F', 'F', 'F', 'M']\n",
        "}\n",
        "\n",
        "# Create a DataFrame from the dictionary\n",
        "df = pd.DataFrame(data)\n",
        "\n",
        "# Display the DataFrame\n",
        "print(df)"
      ],
      "metadata": {
        "colab": {
          "base_uri": "https://localhost:8080/"
        },
        "id": "XSdbFZNIT8-j",
        "outputId": "9b6699ea-3fa0-4ac0-cd4d-de7485c41cd9"
      },
      "execution_count": 3,
      "outputs": [
        {
          "output_type": "stream",
          "name": "stdout",
          "text": [
            "      name  age gender\n",
            "0    Alice   25      F\n",
            "1      Bob   30      M\n",
            "2  Charlie   35      M\n",
            "3    David   40      M\n",
            "4      Eva   22      F\n",
            "5    Frank   28      M\n",
            "6    Grace   33      F\n",
            "7   Hannah   26      F\n",
            "8      Ivy   29      F\n",
            "9     Jack   31      M\n"
          ]
        }
      ]
    },
    {
      "cell_type": "markdown",
      "source": [
        "#Exercise 5: Add a new column to the data frame created in question 1, called occupation. The values for this column should be Programmer, Manager, and Analyst, corresponding to the rows in the dataframe.\n"
      ],
      "metadata": {
        "id": "RuqedC3CUFW1"
      }
    },
    {
      "cell_type": "code",
      "source": [
        "import pandas as pd\n",
        "\n",
        "# Create a dictionary with the data\n",
        "data = {\n",
        "    'name': ['Alice', 'Bob', 'Charlie', 'David', 'Eva', 'Frank', 'Grace', 'Hannah', 'Ivy', 'Jack'],\n",
        "    'age': [25, 30, 35, 40, 22, 28, 33, 26, 29, 31],\n",
        "    'gender': ['F', 'M', 'M', 'M', 'F', 'M', 'F', 'F', 'F', 'M']\n",
        "}\n",
        "\n",
        "# Create a DataFrame from the dictionary\n",
        "df = pd.DataFrame(data)\n",
        "\n",
        "# Add a new column called occupation\n",
        "occupations = ['Programmer', 'Manager', 'Analyst'] * (len(df) // 3) + ['Programmer'] * (len(df) % 3)\n",
        "df['occupation'] = occupations\n",
        "\n",
        "# Display the DataFrame\n",
        "print(df)"
      ],
      "metadata": {
        "id": "sSQtXXPqUKH5"
      },
      "execution_count": null,
      "outputs": []
    },
    {
      "cell_type": "markdown",
      "source": [
        "#Exercise 6: Select the rows of the dataframe where the age is greater than or equal to 30.\n"
      ],
      "metadata": {
        "id": "CcDIG0qJUSic"
      }
    },
    {
      "cell_type": "code",
      "source": [
        "import pandas as pd\n",
        "\n",
        "# Create a dictionary with the data\n",
        "data = {\n",
        "    'name': ['Alice', 'Bob', 'Charlie', 'David', 'Eva', 'Frank', 'Grace', 'Hannah', 'Ivy', 'Jack'],\n",
        "    'age': [25, 30, 35, 40, 22, 28, 33, 26, 29, 31],\n",
        "    'gender': ['F', 'M', 'M', 'M', 'F', 'M', 'F', 'F', 'F', 'M'],\n",
        "    'occupation': ['Programmer', 'Manager', 'Analyst', 'Programmer', 'Manager', 'Analyst', 'Programmer', 'Manager', 'Analyst', 'Programmer']\n",
        "}\n",
        "\n",
        "# Create a DataFrame from the dictionary\n",
        "df = pd.DataFrame(data)\n",
        "\n",
        "# Select rows where age is greater than or equal to 30\n",
        "filtered_df = df[df['age'] >= 30]\n",
        "\n",
        "# Display the filtered DataFrame\n",
        "print(filtered_df)"
      ],
      "metadata": {
        "id": "qL0FPwpLUXZf"
      },
      "execution_count": null,
      "outputs": []
    },
    {
      "cell_type": "markdown",
      "source": [
        "#Exercise 7: Convert this dataframe to a csv file and read that csv file, finally display the contents.\n"
      ],
      "metadata": {
        "id": "ypmnCf-aUeld"
      }
    },
    {
      "cell_type": "code",
      "source": [
        "import pandas as pd\n",
        "\n",
        "# Create a dictionary with the data\n",
        "data = {\n",
        "    'name': ['Alice', 'Bob', 'Charlie', 'David', 'Eva', 'Frank', 'Grace', 'Hannah', 'Ivy', 'Jack'],\n",
        "    'age': [25, 30, 35, 40, 22, 28, 33, 26, 29, 31],\n",
        "    'gender': ['F', 'M', 'M', 'M', 'F', 'M', 'F', 'F', 'F', 'M'],\n",
        "    'occupation': ['Programmer', 'Manager', 'Analyst', 'Programmer', 'Manager', 'Analyst', 'Programmer', 'Manager', 'Analyst', 'Programmer']\n",
        "}\n",
        "\n",
        "# Create a DataFrame from the dictionary\n",
        "df = pd.DataFrame(data)\n",
        "\n",
        "# Convert the DataFrame to a CSV file\n",
        "csv_file = \"dataframe.csv\"\n",
        "df.to_csv(csv_file, index=False)\n",
        "\n",
        "# Read the CSV file\n",
        "df_from_csv = pd.read_csv(csv_file)\n",
        "\n",
        "# Display the contents of the CSV file\n",
        "print(df_from_csv)"
      ],
      "metadata": {
        "colab": {
          "base_uri": "https://localhost:8080/"
        },
        "id": "mkHax4pzUj7z",
        "outputId": "4379a4ab-609d-4f86-d926-91d9c7357165"
      },
      "execution_count": 4,
      "outputs": [
        {
          "output_type": "stream",
          "name": "stdout",
          "text": [
            "      name  age gender  occupation\n",
            "0    Alice   25      F  Programmer\n",
            "1      Bob   30      M     Manager\n",
            "2  Charlie   35      M     Analyst\n",
            "3    David   40      M  Programmer\n",
            "4      Eva   22      F     Manager\n",
            "5    Frank   28      M     Analyst\n",
            "6    Grace   33      F  Programmer\n",
            "7   Hannah   26      F     Manager\n",
            "8      Ivy   29      F     Analyst\n",
            "9     Jack   31      M  Programmer\n"
          ]
        }
      ]
    }
  ]
}