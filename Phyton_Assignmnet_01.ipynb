{
  "nbformat": 4,
  "nbformat_minor": 0,
  "metadata": {
    "colab": {
      "provenance": []
    },
    "kernelspec": {
      "name": "python3",
      "display_name": "Python 3"
    },
    "language_info": {
      "name": "python"
    }
  },
  "cells": [
    {
      "cell_type": "code",
      "execution_count": 2,
      "metadata": {
        "colab": {
          "base_uri": "https://localhost:8080/"
        },
        "id": "5nEcW_L9T47F",
        "outputId": "44c05bbb-0dc1-44f8-b01a-1c87a99b2f4e"
      },
      "outputs": [
        {
          "output_type": "stream",
          "name": "stdout",
          "text": [
            "PeterParker\n",
            "ST1001\n",
            "PeterParker@spiderman.com\n"
          ]
        }
      ],
      "source": [
        "# Exercise 1\n",
        "\n",
        "# Define your details\n",
        "name = \"PeterParker\"\n",
        "student_number = \"ST1001\"\n",
        "email = \"PeterParker@spiderman.com\"\n",
        "\n",
        "# Print the details\n",
        "print(name)\n",
        "print(student_number)\n",
        "print(email)"
      ]
    },
    {
      "cell_type": "code",
      "source": [],
      "metadata": {
        "id": "yOso8JV6VFuE"
      },
      "execution_count": null,
      "outputs": []
    },
    {
      "cell_type": "markdown",
      "source": [],
      "metadata": {
        "id": "LMwK25YcWuZ6"
      }
    },
    {
      "cell_type": "markdown",
      "source": [
        "Exercise **2**"
      ],
      "metadata": {
        "id": "zfiFh-N3Ww-E"
      }
    },
    {
      "cell_type": "code",
      "source": [
        "# Exercise 2\n",
        "\n",
        "# Define your details with escape sequences\n",
        "name = \"PeterParker\\n\"\n",
        "student_number = \"ST1001\\n\"\n",
        "email = \"PeterParker@spiderman.com\\n\"\n",
        "\n",
        "# Print the details\n",
        "print(name)\n",
        "print(student_number)\n",
        "print(email)"
      ],
      "metadata": {
        "colab": {
          "base_uri": "https://localhost:8080/"
        },
        "id": "NIjEs_j5VbX5",
        "outputId": "8eac5df0-1af9-469f-9334-3e00597b3054"
      },
      "execution_count": 4,
      "outputs": [
        {
          "output_type": "stream",
          "name": "stdout",
          "text": [
            "PeterParker\n",
            "\n",
            "ST1001\n",
            "\n",
            "PeterParker@spiderman.com\n",
            "\n"
          ]
        }
      ]
    },
    {
      "cell_type": "markdown",
      "source": [
        "Exercise 3"
      ],
      "metadata": {
        "id": "-QrJObBEWzZA"
      }
    },
    {
      "cell_type": "code",
      "source": [
        "# Exercise 3\n",
        "\n",
        "# Define the numbers\n",
        "num1 = 14\n",
        "num2 = 7\n",
        "\n",
        "# Perform calculations\n",
        "addition = num1 + num2\n",
        "subtraction = num1 - num2\n",
        "multiplication = num1 * num2\n",
        "division = num1 / num2\n",
        "\n",
        "# Print the results\n",
        "print(f\"{num1} + {num2} = {addition}\")\n",
        "print(f\"{num1} - {num2} = {subtraction}\")\n",
        "print(f\"{num1} * {num2} = {multiplication}\")\n",
        "print(f\"{num1} / {num2} = {division}\")"
      ],
      "metadata": {
        "colab": {
          "base_uri": "https://localhost:8080/"
        },
        "id": "VdHsTCUWVoQ-",
        "outputId": "bf077c07-aa69-4ec9-ab18-66f2e479762c"
      },
      "execution_count": 5,
      "outputs": [
        {
          "output_type": "stream",
          "name": "stdout",
          "text": [
            "14 + 7 = 21\n",
            "14 - 7 = 7\n",
            "14 * 7 = 98\n",
            "14 / 7 = 2.0\n"
          ]
        }
      ]
    },
    {
      "cell_type": "markdown",
      "source": [
        "**Exercise 4**"
      ],
      "metadata": {
        "id": "wP3Qjnc3W22F"
      }
    },
    {
      "cell_type": "code",
      "source": [
        "# Exercise 4\n",
        "\n",
        "# Print numbers from 1 to 5\n",
        "for i in range(1, 6):\n",
        "    print(i)"
      ],
      "metadata": {
        "colab": {
          "base_uri": "https://localhost:8080/"
        },
        "id": "idAAS8RKVsUX",
        "outputId": "2d0e79c5-b6d6-498c-b8f1-70ad391ad58d"
      },
      "execution_count": 6,
      "outputs": [
        {
          "output_type": "stream",
          "name": "stdout",
          "text": [
            "1\n",
            "2\n",
            "3\n",
            "4\n",
            "5\n"
          ]
        }
      ]
    },
    {
      "cell_type": "markdown",
      "source": [
        "**Exercise 5**"
      ],
      "metadata": {
        "id": "HUeULVyyW7G8"
      }
    },
    {
      "cell_type": "code",
      "source": [
        "# Exercise 5\n",
        "\n",
        "# Print the sentence with quotation marks and line break\n",
        "print(\"\\\"SDK\\\" stands for \\\"Software Development Kit\\\", whereas\\n\\\"IDE\\\" stands for \\\"Integrated Development Environment\\\".\")"
      ],
      "metadata": {
        "colab": {
          "base_uri": "https://localhost:8080/"
        },
        "id": "z2ZyOqDpVwmU",
        "outputId": "d7e2f10b-7ae2-4386-8fea-a0da10973650"
      },
      "execution_count": 7,
      "outputs": [
        {
          "output_type": "stream",
          "name": "stdout",
          "text": [
            "\"SDK\" stands for \"Software Development Kit\", whereas\n",
            "\"IDE\" stands for \"Integrated Development Environment\".\n"
          ]
        }
      ]
    },
    {
      "cell_type": "markdown",
      "source": [
        "**Exercise 6**"
      ],
      "metadata": {
        "id": "09-VT26cW9vs"
      }
    },
    {
      "cell_type": "code",
      "source": [
        "# Exercise 6\n",
        "\n",
        "print(\"python is an \\\"awesome\\\" language.\")\n",
        "print(\"python\\n\\t2023\")\n",
        "print('I\\'m from Entri.\\b')\n",
        "print(\"\\65\")\n",
        "print(\"\\x65\")\n",
        "print(\"Entri\", \"2023\", sep=\"\\n\")\n",
        "print(\"Entri\", \"2023\", sep=\"\\b\")\n",
        "print(\"Entri\", \"2023\", sep=\"*\", end=\"\\b\\b\\b\\b\")"
      ],
      "metadata": {
        "colab": {
          "base_uri": "https://localhost:8080/"
        },
        "id": "si4VxQxxVzhX",
        "outputId": "5bb090aa-8c54-49d7-b86e-f0a2247f6d4f"
      },
      "execution_count": 8,
      "outputs": [
        {
          "output_type": "stream",
          "name": "stdout",
          "text": [
            "python is an \"awesome\" language.\n",
            "python\n",
            "\t2023\n",
            "I'm from Entri.\b\n",
            "5\n",
            "e\n",
            "Entri\n",
            "2023\n",
            "Entri\b2023\n",
            "Entri*2023\b\b\b\b"
          ]
        }
      ]
    },
    {
      "cell_type": "markdown",
      "source": [
        "**Exercise 7**"
      ],
      "metadata": {
        "id": "t6G0NbvpXAFa"
      }
    },
    {
      "cell_type": "code",
      "source": [
        "# Exercise 7\n",
        "\n",
        "# Define the variables\n",
        "num = 23\n",
        "textnum = \"57\"\n",
        "decimal = 98.3\n",
        "\n",
        "# Print the types of each variable\n",
        "print(type(num))\n",
        "print(type(textnum))\n",
        "print(type(decimal))\n",
        "\n",
        "# Calculate the sum\n",
        "sum_of_variables = num + int(textnum) + decimal\n",
        "\n",
        "# Print the sum and its type\n",
        "print(\"Sum:\", sum_of_variables)\n",
        "print(\"Type of sum:\", type(sum_of_variables))"
      ],
      "metadata": {
        "colab": {
          "base_uri": "https://localhost:8080/"
        },
        "id": "5h4ZyJmWWAtZ",
        "outputId": "d7737ef5-0e77-4cbf-e199-b34d7137ca9b"
      },
      "execution_count": 9,
      "outputs": [
        {
          "output_type": "stream",
          "name": "stdout",
          "text": [
            "<class 'int'>\n",
            "<class 'str'>\n",
            "<class 'float'>\n",
            "Sum: 178.3\n",
            "Type of sum: <class 'float'>\n"
          ]
        }
      ]
    },
    {
      "cell_type": "markdown",
      "source": [
        "**Exercise 8**"
      ],
      "metadata": {
        "id": "pGJjkm0CXCcp"
      }
    },
    {
      "cell_type": "code",
      "source": [
        "# Exercise 8\n",
        "\n",
        "# Define the variables\n",
        "days_in_year = 365\n",
        "minutes_in_hour = 60\n",
        "hours_in_day = 24\n",
        "\n",
        "# Calculate the total minutes in a year\n",
        "total_minutes_in_year = days_in_year * hours_in_day * minutes_in_hour\n",
        "\n",
        "# Print the result\n",
        "print(f\"The total number of minutes in a year is {total_minutes_in_year}.\")"
      ],
      "metadata": {
        "colab": {
          "base_uri": "https://localhost:8080/"
        },
        "id": "mSB_sqNmWRkM",
        "outputId": "91e53d64-f2c4-4eaa-ac03-1615af893551"
      },
      "execution_count": 10,
      "outputs": [
        {
          "output_type": "stream",
          "name": "stdout",
          "text": [
            "The total number of minutes in a year is 525600.\n"
          ]
        }
      ]
    },
    {
      "cell_type": "markdown",
      "source": [
        "**Exercise 2**"
      ],
      "metadata": {
        "id": "sWl_0HBgXE6N"
      }
    },
    {
      "cell_type": "code",
      "source": [
        "# Exercise 9\n",
        "\n",
        "# Ask the user to enter their name\n",
        "name = input(\"Please enter your name: \")\n",
        "\n",
        "# Print the greeting\n",
        "print(f\"Hi {name}, welcome to Python programming :)\")"
      ],
      "metadata": {
        "colab": {
          "base_uri": "https://localhost:8080/"
        },
        "id": "XO0sDoLfWVC2",
        "outputId": "c7d03934-c61d-4d30-cddc-5948afaec856"
      },
      "execution_count": 11,
      "outputs": [
        {
          "output_type": "stream",
          "name": "stdout",
          "text": [
            "Please enter your name: Peter Parker\n",
            "Hi Peter Parker, welcome to Python programming :)\n"
          ]
        }
      ]
    },
    {
      "cell_type": "markdown",
      "source": [
        "**Exercise** 10"
      ],
      "metadata": {
        "id": "jkxJQFoIWjqS"
      }
    },
    {
      "cell_type": "code",
      "source": [
        "# PoundsToDollars.py\n",
        "\n",
        "# Define the conversion rate (example rate, you can update it)\n",
        "conversion_rate = 1.35\n",
        "\n",
        "# Ask the user to enter an amount in pounds\n",
        "pounds = float(input(\"Please enter amount in pounds: \"))\n",
        "\n",
        "# Calculate the amount in dollars\n",
        "dollars = pounds * conversion_rate\n",
        "\n",
        "# Print the result\n",
        "print(f\"£{pounds} are ${dollars:.2f}\")"
      ],
      "metadata": {
        "colab": {
          "base_uri": "https://localhost:8080/"
        },
        "id": "ys-PifVGWnna",
        "outputId": "3daf471a-a35e-478d-b476-7f65484d59f1"
      },
      "execution_count": 12,
      "outputs": [
        {
          "output_type": "stream",
          "name": "stdout",
          "text": [
            "Please enter amount in pounds: 2\n",
            "£2.0 are $2.70\n"
          ]
        }
      ]
    }
  ]
}