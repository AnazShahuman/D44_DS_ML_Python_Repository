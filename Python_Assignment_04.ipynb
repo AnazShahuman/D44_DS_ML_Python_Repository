{
  "nbformat": 4,
  "nbformat_minor": 0,
  "metadata": {
    "colab": {
      "provenance": []
    },
    "kernelspec": {
      "name": "python3",
      "display_name": "Python 3"
    },
    "language_info": {
      "name": "python"
    }
  },
  "cells": [
    {
      "cell_type": "code",
      "execution_count": null,
      "metadata": {
        "id": "pL4YjatJl2KV"
      },
      "outputs": [],
      "source": []
    },
    {
      "cell_type": "markdown",
      "source": [
        "### Python-Functions"
      ],
      "metadata": {
        "id": "KLrXegDMl-RS"
      }
    },
    {
      "cell_type": "markdown",
      "source": [
        "1.\tWhat does the len() function do in Python? Write a code example using len() to find the length of a list."
      ],
      "metadata": {
        "id": "nD4oPj4HmAs6"
      }
    },
    {
      "cell_type": "code",
      "source": [
        "# 1. len() Function\n",
        "# The len() function in Python returns the number of items in an object.\n",
        "# This object can be a list, string, tuple, dictionary, etc.\n",
        "\n",
        "# Example list\n",
        "my_list = [1, 2, 3, 4, 5]\n",
        "\n",
        "# Finding the length of the list\n",
        "length = len(my_list)\n",
        "print(\"The length of the list is:\", length)"
      ],
      "metadata": {
        "colab": {
          "base_uri": "https://localhost:8080/"
        },
        "id": "4tZJ_I2ZmFlz",
        "outputId": "fe9514be-b91e-4e2f-da72-efc224c7a134"
      },
      "execution_count": 1,
      "outputs": [
        {
          "output_type": "stream",
          "name": "stdout",
          "text": [
            "The length of the list is: 5\n"
          ]
        }
      ]
    },
    {
      "cell_type": "markdown",
      "source": [
        "2.\tWrite a Python function greet(name) that takes a person's name as input and prints \"Hello, [name]!\"."
      ],
      "metadata": {
        "id": "5Hx1J8n8mbZL"
      }
    },
    {
      "cell_type": "code",
      "source": [
        "# 2. greet(name) Function\n",
        "# This function takes a person's name as input and prints a greeting message.\n",
        "\n",
        "def greet(name):\n",
        "    print(f\"Hello, {name}!\")\n",
        "\n",
        "# Calling the function\n",
        "greet(\"Alice\")"
      ],
      "metadata": {
        "colab": {
          "base_uri": "https://localhost:8080/"
        },
        "id": "kTGlqcWkmd1n",
        "outputId": "b6110df7-4210-48f0-d121-a71eaac4019b"
      },
      "execution_count": 2,
      "outputs": [
        {
          "output_type": "stream",
          "name": "stdout",
          "text": [
            "Hello, Alice!\n"
          ]
        }
      ]
    },
    {
      "cell_type": "markdown",
      "source": [
        "3.\tWrite a Python function find_maximum(numbers) that takes a list of integers and returns the maximum value without using the built-in max() function. Use a loop to iterate through the list and compare values."
      ],
      "metadata": {
        "id": "-0ducPlrmiQ_"
      }
    },
    {
      "cell_type": "code",
      "source": [
        "# 3. find_maximum(numbers) Function\n",
        "# This function takes a list of integers and returns the maximum value without using the built-in max() function.\n",
        "# It uses a loop to iterate through the list and compare values.\n",
        "\n",
        "def find_maximum(numbers):\n",
        "    # Initialize the first element as the maximum\n",
        "    maximum = numbers[0]\n",
        "\n",
        "    # Iterate through the list\n",
        "    for number in numbers:\n",
        "        if number > maximum:\n",
        "            maximum = number\n",
        "\n",
        "    return maximum\n",
        "\n",
        "# Example usage\n",
        "numbers = [3, 5, 2, 9, 1]\n",
        "print(\"The maximum value is:\", find_maximum(numbers))\n"
      ],
      "metadata": {
        "colab": {
          "base_uri": "https://localhost:8080/"
        },
        "id": "SLORGQHymlM0",
        "outputId": "8b9adaca-d095-486d-f8c2-f78cce6bdeab"
      },
      "execution_count": 3,
      "outputs": [
        {
          "output_type": "stream",
          "name": "stdout",
          "text": [
            "The maximum value is: 9\n"
          ]
        }
      ]
    },
    {
      "cell_type": "markdown",
      "source": [
        "4.\tExplain the difference between local and global variables in a Python function. Write a program where a global variable and a local variable have the same name and show how Python differentiates between them."
      ],
      "metadata": {
        "id": "IxZqjGYzmrnO"
      }
    },
    {
      "cell_type": "code",
      "source": [
        "# 4. Local vs Global Variables\n",
        "# Local variables are defined within a function and can only be accessed within that function.\n",
        "# Global variables are defined outside any function and can be accessed anywhere in the code.\n",
        "\n",
        "# Global variable\n",
        "x = 10\n",
        "\n",
        "def my_function():\n",
        "    # Local variable with the same name as the global variable\n",
        "    x = 5\n",
        "    print(\"Local x:\", x)\n",
        "\n",
        "my_function()\n",
        "print(\"Global x:\", x)\n",
        "\n",
        "# In this example, the local variable x inside my_function() does not affect the global variable x."
      ],
      "metadata": {
        "colab": {
          "base_uri": "https://localhost:8080/"
        },
        "id": "GLF-Y7zumszT",
        "outputId": "a43efe62-7c76-4cbc-9f90-ace443711c37"
      },
      "execution_count": 4,
      "outputs": [
        {
          "output_type": "stream",
          "name": "stdout",
          "text": [
            "Local x: 5\n",
            "Global x: 10\n"
          ]
        }
      ]
    },
    {
      "cell_type": "markdown",
      "source": [
        "5.\tCreate a function calculate_area(length, width=5) that calculates the area of a rectangle. If only the length is provided, the function should assume the width is 5. Show how the function behaves when called with and without the width argument."
      ],
      "metadata": {
        "id": "EE_EIsTem21Y"
      }
    },
    {
      "cell_type": "code",
      "source": [
        "# 5. calculate_area(length, width=5) Function\n",
        "# This function calculates the area of a rectangle. If only the length is provided, the function assumes the width is 5.\n",
        "\n",
        "def calculate_area(length, width=5):\n",
        "    return length * width\n",
        "\n",
        "# Calling the function with both length and width\n",
        "print(\"Area with length 10 and width 4:\", calculate_area(10, 4))\n",
        "\n",
        "# Calling the function with only length\n",
        "print(\"Area with length 10:\", calculate_area(10))"
      ],
      "metadata": {
        "colab": {
          "base_uri": "https://localhost:8080/"
        },
        "id": "R7_USXqsm3vR",
        "outputId": "80b6f54e-90c1-484c-d6df-cfd96256dcfa"
      },
      "execution_count": 5,
      "outputs": [
        {
          "output_type": "stream",
          "name": "stdout",
          "text": [
            "Area with length 10 and width 4: 40\n",
            "Area with length 10: 50\n"
          ]
        }
      ]
    }
  ]
}