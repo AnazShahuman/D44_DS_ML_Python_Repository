{
  "nbformat": 4,
  "nbformat_minor": 0,
  "metadata": {
    "colab": {
      "provenance": []
    },
    "kernelspec": {
      "name": "python3",
      "display_name": "Python 3"
    },
    "language_info": {
      "name": "python"
    }
  },
  "cells": [
    {
      "cell_type": "code",
      "execution_count": null,
      "metadata": {
        "id": "yFOOOHu4bNRE"
      },
      "outputs": [],
      "source": []
    },
    {
      "cell_type": "markdown",
      "source": [
        "### Assignment 3"
      ],
      "metadata": {
        "id": "O2wH3qEcbTBY"
      }
    },
    {
      "cell_type": "markdown",
      "source": [
        "Exercise 1\n",
        "Name your file: MonthNames.py\n",
        "Write a program that reads an integer value between 1 and 12 from the user and prints output the corresponding month of the year.\n",
        "An example run of the program (numbers in bold are typed in by the user)\n",
        "Enter the month: 3\n",
        "Month 3 is March\n"
      ],
      "metadata": {
        "id": "DK-l9KzBbZfD"
      }
    },
    {
      "cell_type": "code",
      "source": [
        "# MonthNames.py\n",
        "\n",
        "# Dictionary to map month numbers to month names\n",
        "months = {\n",
        "    1: \"January\",\n",
        "    2: \"February\",\n",
        "    3: \"March\",\n",
        "    4: \"April\",\n",
        "    5: \"May\",\n",
        "    6: \"June\",\n",
        "    7: \"July\",\n",
        "    8: \"August\",\n",
        "    9: \"September\",\n",
        "    10: \"October\",\n",
        "    11: \"November\",\n",
        "    12: \"December\"\n",
        "}\n",
        "\n",
        "# Read an integer value from the user\n",
        "month_number = int(input(\"Enter the month: \"))\n",
        "\n",
        "# Check if the month number is valid\n",
        "if 1 <= month_number <= 12:\n",
        "    print(f\"Month {month_number} is {months[month_number]}\")\n",
        "else:\n",
        "    print(\"Invalid month number. Please enter a number between 1 and 12.\")"
      ],
      "metadata": {
        "colab": {
          "base_uri": "https://localhost:8080/"
        },
        "id": "IQF-ZWCyblPq",
        "outputId": "235dde80-7973-4189-efc5-ef9c0b9e9abb"
      },
      "execution_count": 3,
      "outputs": [
        {
          "output_type": "stream",
          "name": "stdout",
          "text": [
            "Enter the month: 13\n",
            "Invalid month number. Please enter a number between 1 and 12.\n"
          ]
        }
      ]
    },
    {
      "cell_type": "markdown",
      "source": [
        "## Exercise 2\n",
        "A certain cinema currently sells tickets for a full price of 6 pounds, but always sells tickets for half price to people who are less than 16 years old, and for a third of the price for people who are 60 years old or more.\n",
        "An example run of the program (numbers in bold are typed in by the user)\n",
        "Enter your age: 63\n",
        "Your ticket costs £2.00"
      ],
      "metadata": {
        "id": "ZlXYwfC-eItC"
      }
    },
    {
      "cell_type": "code",
      "source": [
        "# Define the full price of the ticket\n",
        "full_price = 6.0\n",
        "\n",
        "# Read the user's age\n",
        "age = int(input(\"Enter your age: \"))\n",
        "\n",
        "# Calculate the ticket price based on age\n",
        "if age < 16:\n",
        "    ticket_price = full_price / 2\n",
        "elif age >= 60:\n",
        "    ticket_price = full_price / 3\n",
        "else:\n",
        "    ticket_price = full_price\n",
        "\n",
        "# Print the ticket price\n",
        "print(f\"Your ticket costs £{ticket_price:.2f}\")"
      ],
      "metadata": {
        "colab": {
          "base_uri": "https://localhost:8080/"
        },
        "id": "mJTHpURBeXWC",
        "outputId": "41d93982-c8a3-4beb-b423-18bbb8b1223e"
      },
      "execution_count": 7,
      "outputs": [
        {
          "output_type": "stream",
          "name": "stdout",
          "text": [
            "Enter your age: 5\n",
            "Your ticket costs £3.00\n"
          ]
        }
      ]
    },
    {
      "cell_type": "markdown",
      "source": [
        "## Exercise 3\n",
        "Name your file: BodyMassIndex.py\n",
        "Write a program to calculate your BMI and give weight status. Body Mass Index (BMI) is an internationally used measurement to check if you are a healthy weight for your height.The metric BMI formula accepts weight in kilograms and height in meters:\n",
        "BMI= weight(kg)/height2(m2)\n",
        "BMI Weight Status Categories table\n",
        "BMI range - kg/m2   Category\n",
        "Below 18.5                    Underweight\n",
        "18.5 -24.9         Normal\n",
        "25 - 29.9          Overweight\n",
        "30 & Above     Obese\n",
        "An example run of the program (numbers in bold are typed in by the user)\n",
        "Enter your weight in (kg): 75\n",
        "Enter your height in (m): 1.70\n",
        "Your BMI is: 25.95\n",
        "You are in the “overweight” range.\n"
      ],
      "metadata": {
        "id": "tEig5ovmgQSE"
      }
    },
    {
      "cell_type": "code",
      "source": [
        "\n",
        "# Function to calculate BMI\n",
        "def calculate_bmi(weight, height):\n",
        "    return weight / (height ** 2)\n",
        "\n",
        "# Function to determine weight status based on BMI\n",
        "def weight_status(bmi):\n",
        "    if bmi < 18.5:\n",
        "        return \"Underweight\"\n",
        "    elif 18.5 <= bmi < 25:\n",
        "        return \"Normal\"\n",
        "    elif 25 <= bmi < 30:\n",
        "        return \"Overweight\"\n",
        "    else:\n",
        "        return \"Obese\"\n",
        "\n",
        "# Read weight and height from the user\n",
        "weight = float(input(\"Enter your weight in (kg): \"))\n",
        "height = float(input(\"Enter your height in (m): \"))\n",
        "\n",
        "# Calculate BMI\n",
        "bmi = calculate_bmi(weight, height)\n",
        "\n",
        "# Determine weight status\n",
        "status = weight_status(bmi)\n",
        "\n",
        "# Print the results\n",
        "print(f\"Your BMI is: {bmi:.2f}\")\n",
        "print(f\"You are in the \\\"{status}\\\" range.\")"
      ],
      "metadata": {
        "colab": {
          "base_uri": "https://localhost:8080/"
        },
        "id": "MTTyNwEigXbq",
        "outputId": "d1e0b8ba-139b-409b-b3f9-0e4f16ceb122"
      },
      "execution_count": 9,
      "outputs": [
        {
          "output_type": "stream",
          "name": "stdout",
          "text": [
            "Enter your weight in (kg): 89\n",
            "Enter your height in (m): 1.67\n",
            "Your BMI is: 31.91\n",
            "You are in the \"Obese\" range.\n"
          ]
        }
      ]
    },
    {
      "cell_type": "markdown",
      "source": [
        "## Exercise 4\n",
        "Write a Python program to receive 3 numbers from the user and print the greatest among them."
      ],
      "metadata": {
        "id": "2sjn2KoQgmzv"
      }
    },
    {
      "cell_type": "code",
      "source": [
        "# Function to find the greatest number among three\n",
        "def find_greatest(num1, num2, num3):\n",
        "    if num1 >= num2 and num1 >= num3:\n",
        "        return num1\n",
        "    elif num2 >= num1 and num2 >= num3:\n",
        "        return num2\n",
        "    else:\n",
        "        return num3\n",
        "\n",
        "# Read three numbers from the user\n",
        "num1 = float(input(\"Enter the first number: \"))\n",
        "num2 = float(input(\"Enter the second number: \"))\n",
        "num3 = float(input(\"Enter the third number: \"))\n",
        "\n",
        "# Find the greatest number\n",
        "greatest = find_greatest(num1, num2, num3)\n",
        "\n",
        "# Print the greatest number\n",
        "print(f\"The greatest number among {num1}, {num2}, and {num3} is {greatest}.\")"
      ],
      "metadata": {
        "colab": {
          "base_uri": "https://localhost:8080/"
        },
        "id": "rIQ7i1Wugr3Z",
        "outputId": "e4550048-dcc5-4677-efb1-971ec876061a"
      },
      "execution_count": 10,
      "outputs": [
        {
          "output_type": "stream",
          "name": "stdout",
          "text": [
            "Enter the first number: 25\n",
            "Enter the second number: 85\n",
            "Enter the third number: 12\n",
            "The greatest number among 25.0, 85.0, and 12.0 is 85.0.\n"
          ]
        }
      ]
    },
    {
      "cell_type": "markdown",
      "source": [
        "## Exercise 5\n",
        "Find the factorial of a given number using loops(note the number is received from the user)\n"
      ],
      "metadata": {
        "id": "4d3y4__eg270"
      }
    },
    {
      "cell_type": "code",
      "source": [
        "# Function to calculate factorial using a loop\n",
        "def factorial(n):\n",
        "    result = 1\n",
        "    for i in range(1, n + 1):\n",
        "        result *= i\n",
        "    return result\n",
        "\n",
        "# Read a number from the user\n",
        "number = int(input(\"Enter a number: \"))\n",
        "\n",
        "# Calculate the factorial\n",
        "fact = factorial(number)\n",
        "\n",
        "# Print the result\n",
        "print(f\"The factorial of {number} is {fact}.\")"
      ],
      "metadata": {
        "colab": {
          "base_uri": "https://localhost:8080/"
        },
        "id": "nBe86SaOg8VG",
        "outputId": "62110886-64a1-4f75-8de4-45622b388b7f"
      },
      "execution_count": 11,
      "outputs": [
        {
          "output_type": "stream",
          "name": "stdout",
          "text": [
            "Enter a number: 6\n",
            "The factorial of 6 is 720.\n"
          ]
        }
      ]
    },
    {
      "cell_type": "markdown",
      "source": [
        "## Exercise 6\n",
        "Reverse a number using while loop\n"
      ],
      "metadata": {
        "id": "ea-u1GtohDq6"
      }
    },
    {
      "cell_type": "code",
      "source": [
        "def reverse_number(n):\n",
        "    reversed_num = 0\n",
        "    while n > 0:\n",
        "        digit = n % 10\n",
        "        reversed_num = reversed_num * 10 + digit\n",
        "        n = n // 10\n",
        "    return reversed_num\n",
        "\n",
        "# Read a number from the user\n",
        "number = int(input(\"Enter a number: \"))\n",
        "\n",
        "# Reverse the number\n",
        "reversed_num = reverse_number(number)\n",
        "\n",
        "# Print the result\n",
        "print(f\"The reverse of {number} is {reversed_num}.\")"
      ],
      "metadata": {
        "colab": {
          "base_uri": "https://localhost:8080/"
        },
        "id": "QDgpk9XlhH6w",
        "outputId": "4d9ef49d-646b-4d6a-e6de-2041c1b560ff"
      },
      "execution_count": 12,
      "outputs": [
        {
          "output_type": "stream",
          "name": "stdout",
          "text": [
            "Enter a number: 687\n",
            "The reverse of 687 is 786.\n"
          ]
        }
      ]
    },
    {
      "cell_type": "markdown",
      "source": [
        "## Exercise 7\n",
        "Finding the multiples of a number using loop\n"
      ],
      "metadata": {
        "id": "iO4zezR4hRJG"
      }
    },
    {
      "cell_type": "code",
      "source": [
        "# Function to find and print multiples of a number\n",
        "def find_multiples(number, limit):\n",
        "    for i in range(1, limit + 1):\n",
        "        multiple = number * i\n",
        "        print(multiple)\n",
        "\n",
        "# Read a number from the user\n",
        "number = int(input(\"Enter a number: \"))\n",
        "\n",
        "# Read the limit for multiples from the user\n",
        "limit = int(input(\"Enter the limit for multiples: \"))\n",
        "\n",
        "# Find and print the multiples\n",
        "print(f\"Multiples of {number} up to {limit}:\")\n",
        "find_multiples(number, limit)"
      ],
      "metadata": {
        "colab": {
          "base_uri": "https://localhost:8080/"
        },
        "id": "aFe6uZKShULD",
        "outputId": "bbd9b6e7-7fdd-421e-f500-0b18457f4516"
      },
      "execution_count": 13,
      "outputs": [
        {
          "output_type": "stream",
          "name": "stdout",
          "text": [
            "Enter a number: 5\n",
            "Enter the limit for multiples: 4\n",
            "Multiples of 5 up to 4:\n",
            "5\n",
            "10\n",
            "15\n",
            "20\n"
          ]
        }
      ]
    },
    {
      "cell_type": "markdown",
      "source": [
        "## Exercise 8\n",
        "Write a program to print the inputted value as it is and break the loop if the value is 'done'.\n",
        "Example run of the program\n",
        ":hello there\n",
        "hello there\n",
        ":finished\n",
        "finished\n",
        ":done\n",
        "Done\n"
      ],
      "metadata": {
        "id": "UiCXBf09hiQn"
      }
    },
    {
      "cell_type": "code",
      "source": [
        "# Function to print inputted values and break the loop if 'done' is entered\n",
        "def print_values():\n",
        "    while True:\n",
        "        user_input = input(\":\")\n",
        "        if user_input.lower() == 'done':\n",
        "            print(\"Done\")\n",
        "            break\n",
        "        else:\n",
        "            print(user_input)\n",
        "\n",
        "# Call the function\n",
        "print_values()"
      ],
      "metadata": {
        "colab": {
          "base_uri": "https://localhost:8080/"
        },
        "id": "nHEh-dOghlSN",
        "outputId": "a67e18f6-9e29-4b90-ef4c-f369884c76b2"
      },
      "execution_count": 14,
      "outputs": [
        {
          "output_type": "stream",
          "name": "stdout",
          "text": [
            ":Hello\n",
            "Hello\n",
            ":world\n",
            "world\n",
            ":why are you mimicing me?\n",
            "why are you mimicing me?\n",
            ":done\n",
            "Done\n"
          ]
        }
      ]
    },
    {
      "cell_type": "markdown",
      "source": [
        "## Exercise 9\n",
        "Write a program that prints the numbers from 1 to 10. But for multiples of three print \"Fizz\" instead of the number and for the multiple of five print \"Buzz\". For numbers which are multiples of both three and five print \"FizzBuzz\"\n"
      ],
      "metadata": {
        "id": "9zk96o65h0O7"
      }
    },
    {
      "cell_type": "code",
      "source": [
        "# Function to print numbers with FizzBuzz logic\n",
        "def fizzbuzz():\n",
        "    for i in range(1, 11):\n",
        "        if i % 3 == 0 and i % 5 == 0:\n",
        "            print(\"FizzBuzz\")\n",
        "        elif i % 3 == 0:\n",
        "            print(\"Fizz\")\n",
        "        elif i % 5 == 0:\n",
        "            print(\"Buzz\")\n",
        "        else:\n",
        "            print(i)\n",
        "\n",
        "# Call the function\n",
        "fizzbuzz()"
      ],
      "metadata": {
        "colab": {
          "base_uri": "https://localhost:8080/"
        },
        "id": "De2yCQ_ch4YW",
        "outputId": "c20c34e5-85e7-485f-83e3-8a0eb6a1117c"
      },
      "execution_count": 15,
      "outputs": [
        {
          "output_type": "stream",
          "name": "stdout",
          "text": [
            "1\n",
            "2\n",
            "Fizz\n",
            "4\n",
            "Buzz\n",
            "Fizz\n",
            "7\n",
            "8\n",
            "Fizz\n",
            "Buzz\n"
          ]
        }
      ]
    },
    {
      "cell_type": "markdown",
      "source": [
        "## Exercise 10\n",
        "Write a program to print the following pattern:\n",
        "\n",
        "5 4 3 2 1\n",
        "4 3 2 1\n",
        "3 2 1\n",
        "2 1\n",
        "1\n"
      ],
      "metadata": {
        "id": "Eu_0hdULiKFQ"
      }
    },
    {
      "cell_type": "code",
      "source": [
        "# Function to print the pattern\n",
        "def print_pattern():\n",
        "    for i in range(5, 0, -1):\n",
        "        for j in range(i, 0, -1):\n",
        "            print(j, end=\" \")\n",
        "        print()\n",
        "\n",
        "# Call the function\n",
        "print_pattern()"
      ],
      "metadata": {
        "colab": {
          "base_uri": "https://localhost:8080/"
        },
        "id": "NsVYhIbXiU8a",
        "outputId": "4da227d3-b54c-4ed1-ab6c-2390c9f82220"
      },
      "execution_count": 16,
      "outputs": [
        {
          "output_type": "stream",
          "name": "stdout",
          "text": [
            "5 4 3 2 1 \n",
            "4 3 2 1 \n",
            "3 2 1 \n",
            "2 1 \n",
            "1 \n"
          ]
        }
      ]
    },
    {
      "cell_type": "markdown",
      "source": [],
      "metadata": {
        "id": "F74xnPSkcCFL"
      }
    }
  ]
}